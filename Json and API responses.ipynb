{
 "cells": [
  {
   "cell_type": "code",
   "execution_count": null,
   "id": "986bec71",
   "metadata": {},
   "outputs": [],
   "source": [
    "#This is for python 3.8\n",
    "#We'll need the following libraries as they're not part of the python standard library\n",
    "\n",
    "#requests\n",
    "#json"
   ]
  },
  {
   "cell_type": "code",
   "execution_count": 1,
   "id": "0577673a",
   "metadata": {},
   "outputs": [],
   "source": [
    "import requests\n",
    "import json"
   ]
  },
  {
   "cell_type": "code",
   "execution_count": 13,
   "id": "7b4260bc",
   "metadata": {},
   "outputs": [
    {
     "name": "stdout",
     "output_type": "stream",
     "text": [
      "response code is: 200\n",
      "response json is: {'message': 'success', 'number': 10, 'people': [{'craft': 'ISS', 'name': 'Sergey Prokopyev'}, {'craft': 'ISS', 'name': 'Dmitry Petelin'}, {'craft': 'ISS', 'name': 'Frank Rubio'}, {'craft': 'Shenzhou 15', 'name': 'Fei Junlong'}, {'craft': 'Shenzhou 15', 'name': 'Deng Qingming'}, {'craft': 'Shenzhou 15', 'name': 'Zhang Lu'}, {'craft': 'ISS', 'name': 'Stephen Bowen'}, {'craft': 'ISS', 'name': 'Warren Hoburg'}, {'craft': 'ISS', 'name': 'Sultan Alneyadi'}, {'craft': 'ISS', 'name': 'Andrey Fedyaev'}]}\n"
     ]
    }
   ],
   "source": [
    "response = requests.get(\"http://api.open-notify.org/astros.json\")\n",
    "\n",
    "#Printing the response, considerating that the response is an int type we have to transform \n",
    "#it to string type with str() so we can concatenate the response to the text \"response code is: \" and yes, we can also get \n",
    "#the response code by itself without concatenate it, this is just for a better visualization.\n",
    "\n",
    "text = response.json()\n",
    "\n",
    "print(\"response code is: \" + str(response.status_code))\n",
    "print(\"response json is: \" + str(text))"
   ]
  },
  {
   "cell_type": "code",
   "execution_count": 14,
   "id": "1ff0faef",
   "metadata": {},
   "outputs": [
    {
     "name": "stdout",
     "output_type": "stream",
     "text": [
      "{\n",
      "    \"message\": \"success\",\n",
      "    \"number\": 10,\n",
      "    \"people\": [\n",
      "        {\n",
      "            \"craft\": \"ISS\",\n",
      "            \"name\": \"Sergey Prokopyev\"\n",
      "        },\n",
      "        {\n",
      "            \"craft\": \"ISS\",\n",
      "            \"name\": \"Dmitry Petelin\"\n",
      "        },\n",
      "        {\n",
      "            \"craft\": \"ISS\",\n",
      "            \"name\": \"Frank Rubio\"\n",
      "        },\n",
      "        {\n",
      "            \"craft\": \"Shenzhou 15\",\n",
      "            \"name\": \"Fei Junlong\"\n",
      "        },\n",
      "        {\n",
      "            \"craft\": \"Shenzhou 15\",\n",
      "            \"name\": \"Deng Qingming\"\n",
      "        },\n",
      "        {\n",
      "            \"craft\": \"Shenzhou 15\",\n",
      "            \"name\": \"Zhang Lu\"\n",
      "        },\n",
      "        {\n",
      "            \"craft\": \"ISS\",\n",
      "            \"name\": \"Stephen Bowen\"\n",
      "        },\n",
      "        {\n",
      "            \"craft\": \"ISS\",\n",
      "            \"name\": \"Warren Hoburg\"\n",
      "        },\n",
      "        {\n",
      "            \"craft\": \"ISS\",\n",
      "            \"name\": \"Sultan Alneyadi\"\n",
      "        },\n",
      "        {\n",
      "            \"craft\": \"ISS\",\n",
      "            \"name\": \"Andrey Fedyaev\"\n",
      "        }\n",
      "    ]\n",
      "}\n"
     ]
    }
   ],
   "source": [
    "#We can order the information so it looks more readable\n",
    "\n",
    "def jprint(obj):\n",
    "    # create a formatted string of the Python JSON object\n",
    "    text = json.dumps(obj, sort_keys=True, indent=4)\n",
    "    print(text)\n",
    "\n",
    "jprint(response.json())"
   ]
  },
  {
   "cell_type": "code",
   "execution_count": null,
   "id": "63377d2f",
   "metadata": {},
   "outputs": [],
   "source": []
  }
 ],
 "metadata": {
  "kernelspec": {
   "display_name": "Python 3 (ipykernel)",
   "language": "python",
   "name": "python3"
  },
  "language_info": {
   "codemirror_mode": {
    "name": "ipython",
    "version": 3
   },
   "file_extension": ".py",
   "mimetype": "text/x-python",
   "name": "python",
   "nbconvert_exporter": "python",
   "pygments_lexer": "ipython3",
   "version": "3.8.13"
  }
 },
 "nbformat": 4,
 "nbformat_minor": 5
}
