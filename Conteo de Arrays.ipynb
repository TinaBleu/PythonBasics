{
 "cells": [
  {
   "cell_type": "code",
   "execution_count": 1,
   "id": "85daccf4",
   "metadata": {},
   "outputs": [],
   "source": [
    "# Ejemplo de uso\n",
    "arrays_ejemplo = [\n",
    "    [1,2,3,4,0,0,0,9,8,0,8,0,1],  # Ejemplo dado\n",
    "    [0,0,2,3,4,5,0,0,0,8],  # Otro ejemplo\n",
    "    [0,0,0]  # Array solo de ceros\n",
    "]\n"
   ]
  },
  {
   "cell_type": "code",
   "execution_count": 2,
   "id": "229b633f",
   "metadata": {},
   "outputs": [],
   "source": [
    "def contar_cambios_corregido(array):\n",
    "    # Inicializar variables\n",
    "    cambios = 0\n",
    "    estado_anterior = 0  # Asumimos que comenzamos en un estado de 'conjunto_ceros' para simplificar\n",
    "    \n",
    "    # Corregir para manejar correctamente el inicio con un conjunto positivo\n",
    "    inicio_positivo = array[0] > 0\n",
    "    \n",
    "    for numero in array:\n",
    "        # Cambio de cero a positivo\n",
    "        if numero > 0 and estado_anterior == 0:\n",
    "            cambios += 1\n",
    "            estado_anterior = 1\n",
    "        elif numero == 0:\n",
    "            estado_anterior = 0\n",
    "            \n",
    "    # Ajustar el conteo si el array comienza con números positivos\n",
    "    if inicio_positivo:\n",
    "        cambios = max(0, cambios - 1)\n",
    "        \n",
    "    return cambios\n",
    "\n"
   ]
  },
  {
   "cell_type": "code",
   "execution_count": 3,
   "id": "e9badf3c",
   "metadata": {},
   "outputs": [
    {
     "data": {
      "text/plain": [
       "[3, 2, 0]"
      ]
     },
     "execution_count": 3,
     "metadata": {},
     "output_type": "execute_result"
    }
   ],
   "source": [
    "# Reintentar con la corrección adecuada\n",
    "resultados_corregidos = [contar_cambios_corregido(array) for array in arrays_ejemplo]\n",
    "resultados_corregidos"
   ]
  },
  {
   "cell_type": "code",
   "execution_count": null,
   "id": "dc6b2bce",
   "metadata": {},
   "outputs": [],
   "source": []
  }
 ],
 "metadata": {
  "kernelspec": {
   "display_name": "Python 3 (ipykernel)",
   "language": "python",
   "name": "python3"
  },
  "language_info": {
   "codemirror_mode": {
    "name": "ipython",
    "version": 3
   },
   "file_extension": ".py",
   "mimetype": "text/x-python",
   "name": "python",
   "nbconvert_exporter": "python",
   "pygments_lexer": "ipython3",
   "version": "3.9.13"
  }
 },
 "nbformat": 4,
 "nbformat_minor": 5
}
